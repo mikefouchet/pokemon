{
 "cells": [
  {
   "cell_type": "code",
   "execution_count": 1,
   "id": "de1a11e0",
   "metadata": {},
   "outputs": [
    {
     "name": "stdout",
     "output_type": "stream",
     "text": [
      "Cloning into 'Standings'...\n",
      "remote: Enumerating objects: 58, done.\u001b[K\n",
      "remote: Counting objects: 100% (37/37), done.\u001b[K\n",
      "remote: Compressing objects: 100% (18/18), done.\u001b[K\n",
      "remote: Total 58 (delta 28), reused 19 (delta 19), pack-reused 21\u001b[K\n",
      "Receiving objects: 100% (58/58), 37.04 KiB | 2.31 MiB/s, done.\n",
      "Resolving deltas: 100% (30/30), done.\n"
     ]
    }
   ],
   "source": [
    "!git clone https://github.com/JulienGitHub/Standings.git\n",
    "\n"
   ]
  },
  {
   "cell_type": "code",
   "execution_count": 4,
   "id": "0643c0d8",
   "metadata": {},
   "outputs": [
    {
     "name": "stdout",
     "output_type": "stream",
     "text": [
      "/Users/horacemann/All Python Projects/Standings\n"
     ]
    }
   ],
   "source": [
    "%cd /Users/horacemann/All Python Projects/Standings"
   ]
  },
  {
   "cell_type": "code",
   "execution_count": 6,
   "id": "a7b9f084",
   "metadata": {},
   "outputs": [
    {
     "name": "stdout",
     "output_type": "stream",
     "text": [
      "Requirement already satisfied: regex in /Users/horacemann/opt/anaconda3/lib/python3.8/site-packages (2021.4.4)\n",
      "Collecting unicodedata2\n",
      "  Downloading unicodedata2-15.1.0-cp38-cp38-macosx_10_9_x86_64.whl (427 kB)\n",
      "\u001b[K     |████████████████████████████████| 427 kB 7.0 MB/s eta 0:00:01\n",
      "\u001b[?25hInstalling collected packages: unicodedata2\n",
      "Successfully installed unicodedata2-15.1.0\n",
      "Requirement already satisfied: beautifulsoup4 in /Users/horacemann/opt/anaconda3/lib/python3.8/site-packages (4.9.3)\n",
      "Requirement already satisfied: soupsieve>1.2 in /Users/horacemann/opt/anaconda3/lib/python3.8/site-packages (from beautifulsoup4) (2.2.1)\n"
     ]
    }
   ],
   "source": [
    "!pip install regex\n",
    "!pip install unicodedata2\n",
    "!pip install beautifulsoup4"
   ]
  },
  {
   "cell_type": "code",
   "execution_count": 8,
   "id": "e624a11b",
   "metadata": {},
   "outputs": [
    {
     "name": "stdout",
     "output_type": "stream",
     "text": [
      "starting at : 2023/11/04 - 16:08:15\n",
      "Not reading decklists\n",
      "Not reading roster\n",
      "Standing : Toronto Pokémon TCG Regional Championships 2024 - in 0001/juniors for Juniors [/999/999]\n",
      "\thttps://rk9.gg/pairings/TO1x3xZXT1l3zZTpLHra\n",
      "Standing : TCG - Toronto Pokémon TCG Regional Championships 2024 - in 0001/juniors for Juniors NbPlayers: 109 -> [P0/7/7]\n",
      "Standing : Toronto Pokémon TCG Regional Championships 2024 - in 0001/seniors for Seniors [/999/999]\n",
      "\thttps://rk9.gg/pairings/TO1x3xZXT1l3zZTpLHra\n",
      "Standing : TCG - Toronto Pokémon TCG Regional Championships 2024 - in 0001/seniors for Seniors NbPlayers: 152 -> [P9/8/8]\n",
      "Standing : Toronto Pokémon TCG Regional Championships 2024 - in 0001/masters for Masters [/999/999]\n",
      "\thttps://rk9.gg/pairings/TO1x3xZXT1l3zZTpLHra\n",
      "Standing : TCG - Toronto Pokémon TCG Regional Championships 2024 - in 0001/masters for Masters NbPlayers: 1543 -> [P2/9/15]\n",
      "Ending at 2023/11/04 - 16:08:24 with no issues\n"
     ]
    }
   ],
   "source": [
    "from standings import mainWorker\n",
    "\n",
    "url = 'TO1x3xZXT1l3zZTpLHra'\n",
    "tournament_id = '0001'\n",
    "decklists = False\n",
    "roster = False\n",
    "\n",
    "# Call your main function with these arguments\n",
    "mainWorker(tournament_id, url, decklists, roster)\n"
   ]
  }
 ],
 "metadata": {
  "kernelspec": {
   "display_name": "Python 3",
   "language": "python",
   "name": "python3"
  },
  "language_info": {
   "codemirror_mode": {
    "name": "ipython",
    "version": 3
   },
   "file_extension": ".py",
   "mimetype": "text/x-python",
   "name": "python",
   "nbconvert_exporter": "python",
   "pygments_lexer": "ipython3",
   "version": "3.8.8"
  }
 },
 "nbformat": 4,
 "nbformat_minor": 5
}
